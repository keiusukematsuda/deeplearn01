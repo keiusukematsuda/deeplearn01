{
 "cells": [
  {
   "cell_type": "code",
   "execution_count": 29,
   "metadata": {},
   "outputs": [],
   "source": [
    "# -*- coding: UTF-8 -*-\n",
    "import math\n",
    "import matplotlib.pyplot as plt "
   ]
  },
  {
   "cell_type": "code",
   "execution_count": 30,
   "metadata": {},
   "outputs": [],
   "source": [
    "def sigmoid(a):\n",
    "    ###シグモイド関数\n",
    "    ###\n",
    "    return 1.0 / (1.0 + math.exp(-a))"
   ]
  },
  {
   "cell_type": "code",
   "execution_count": 47,
   "metadata": {},
   "outputs": [],
   "source": [
    "class Neuron:\n",
    "    ### 単一ニューロンクラス\n",
    "    ###\n",
    "    \n",
    "    input_sum = 0.0\n",
    "    output = 0.0\n",
    "    \n",
    "    def setInput(self, inp):\n",
    "        self.input_sum += inp\n",
    "        \n",
    "    def getOutput(self):\n",
    "        self.output = sigmoid(self.input_sum)\n",
    "        return self.output\n",
    "    \n",
    "    def reset(self):\n",
    "        self.input_sum = 0\n",
    "        self.output = 0"
   ]
  },
  {
   "cell_type": "code",
   "execution_count": 54,
   "metadata": {},
   "outputs": [],
   "source": [
    "class NeuralNetwork:\n",
    "    ### ニューラルネットワーククラス\n",
    "    \n",
    "    ###\n",
    "    \n",
    "    # 入力の重み\n",
    "    weights = [-0.5, 0.5]\n",
    "    \n",
    "    # ニューロンのインスタンス化\n",
    "    neuron = Neuron()\n",
    "    \n",
    "    # 実行\n",
    "    def commit(self, input_data):\n",
    "        if len(input_data) == len(self.weights):\n",
    "            for data,weight in zip(input_data,self.weights):\n",
    "                self.neuron.setInput(data * weight)\n",
    "        else:\n",
    "            print(\"the number of input_data and weights is not same\")\n",
    "        return self.neuron.getOutput()"
   ]
  },
  {
   "cell_type": "code",
   "execution_count": 55,
   "metadata": {},
   "outputs": [],
   "source": [
    "# 基準値(データの範囲を0.0-1.0の範囲に収めるため)\n",
    "refer_point_0 = 34.5\n",
    "refer_point_1 = 137.5"
   ]
  },
  {
   "cell_type": "code",
   "execution_count": 56,
   "metadata": {},
   "outputs": [],
   "source": [
    "# ファイルの読み込み\n",
    "trial_data = []\n",
    "trial_data_file = open(\"trial_data\",\"r\")\n",
    "for line in trial_data_file:\n",
    "    line = line.rstrip().split(\",\")\n",
    "    trial_data.append([float(line[0]) - refer_point_0, float(line[1]) - refer_point_1])\n",
    "trial_data_file.close()"
   ]
  },
  {
   "cell_type": "code",
   "execution_count": 57,
   "metadata": {},
   "outputs": [],
   "source": [
    "# ニューラルネットワークのインスタンス化\n",
    "neural_network = NeuralNetwork()"
   ]
  },
  {
   "cell_type": "code",
   "execution_count": 58,
   "metadata": {},
   "outputs": [],
   "source": [
    "# 実行\n",
    "position_tokyo = [[], []]\n",
    "position_kanagawa = [[], []]\n",
    "for data in trial_data:\n",
    "    if neural_network.commit(data) < 0.5:\n",
    "        position_tokyo[0].append(data[1] + refer_point_1)\n",
    "        position_tokyo[1].append(data[0] + refer_point_0)\n",
    "    else:\n",
    "        position_kanagawa[0].append(data[1] + refer_point_1)\n",
    "        position_kanagawa[1].append(data[0] + refer_point_0)"
   ]
  },
  {
   "cell_type": "code",
   "execution_count": 59,
   "metadata": {},
   "outputs": [
    {
     "data": {
      "image/png": "[encoded data removed]",
      "text/plain": [
       "<Figure size 432x288 with 1 Axes>"
      ]
     },
     "metadata": {
      "needs_background": "light"
     },
     "output_type": "display_data"
    }
   ],
   "source": [
    "# プロット\n",
    "plt.scatter(position_tokyo[0], position_tokyo[1], c=\"red\", label= \"Tokyo\", marker= \"+\")\n",
    "plt.scatter(position_kanagawa[0], position_kanagawa[1], c=\"blue\", label= \"Kanagawa\", marker= \"+\")\n",
    "plt.legend()\n",
    "plt.show()"
   ]
  },
  {
   "cell_type": "code",
   "execution_count": null,
   "metadata": {},
   "outputs": [],
   "source": []
  }
 ],
 "metadata": {
  "kernelspec": {
   "display_name": "Python 3",
   "language": "python",
   "name": "python3"
  },
  "language_info": {
   "codemirror_mode": {
    "name": "ipython",
    "version": 3
   },
   "file_extension": ".py",
   "mimetype": "text/x-python",
   "name": "python",
   "nbconvert_exporter": "python",
   "pygments_lexer": "ipython3",
   "version": "3.6.0"
  }
 },
 "nbformat": 4,
 "nbformat_minor": 2
}
